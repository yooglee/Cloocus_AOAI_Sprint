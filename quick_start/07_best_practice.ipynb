{
 "cells": [
  {
   "attachments": {},
   "cell_type": "markdown",
   "metadata": {},
   "source": [
    "# OpenAI가 제공하는 프롬프트 엔지니어링 모범사례\n",
    "\n",
    "OpenAI 모델에 명확하고 효과적인 지침을 제공하는 방법을 설명합니다.\n",
    "\n",
    "source: https://help.openai.com/en/articles/6654000-best-practices-for-prompt-engineering-with-openai-api\n",
    "\n",
    "## 프롬프트 엔지니어링 작동 방식\n",
    "OpenAI 모델이 훈련되는 방식으로 인해 특히 잘 작동하고 보다 유용한 [모델](https://learn.microsoft.com/en-us/azure/ai-services/openai/concepts/models) 출력으로 이어지는 특정 프롬프트 형식이 있습니다. [​OpenAI의 공식 프롬프트 엔지니어링 가이드](https://platform.openai.com/docs/guides/prompt-engineering)는 일반적으로 프롬프트 팁을 학습하기 좋은 시작점입니다. 아래에는 잘 작동한다고 생각되는 여러 가지 프롬프트 형식이 제시되어 있지만 작업에 더 적합할 수 있는 다양한 형식을 자유롭게 탐색해 보세요.\n",
    "\n",
    "## 사용법에 대한 예시\n",
    "### 참고\n",
    "> {text input here} 은 실제 텍스트/컨텍스트를 입력하는 표시입니다."
   ]
  },
  {
   "cell_type": "code",
   "execution_count": null,
   "metadata": {},
   "outputs": [],
   "source": [
    "import os\n",
    "from openai import AzureOpenAI\n",
    "from dotenv import load_dotenv\n",
    "load_dotenv(\"../credentials.env\")\n",
    "\n",
    "client = AzureOpenAI(\n",
    "    azure_endpoint = os.getenv(\"AZURE_OPENAI_ENDPOINT\",\"\").strip(),\n",
    "    api_key        = os.getenv(\"AZURE_OPENAI_API_KEY\"),\n",
    "    api_version    = os.getenv(\"OPENAI_API_VERSION\")\n",
    ")\n",
    "\n",
    "deployment_name = os.getenv('DEPLOYMENT_NAME')"
   ]
  },
  {
   "attachments": {},
   "cell_type": "markdown",
   "metadata": {},
   "source": [
    "## 1. 최신 모델 사용\n",
    "\n",
    "최상의 결과를 얻으려면 최신 모델을 사용하십시오. 최신 모델은 엔지니어에게 프롬프트를 사용하는 것이 더 쉬울 수 있습니다.\n",
    "최신 모델 정보는 [다음 링크](https://learn.microsoft.com/ko-kr/azure/ai-services/openai/concepts/models)에서 확인 가능합니다."
   ]
  },
  {
   "attachments": {},
   "cell_type": "markdown",
   "metadata": {},
   "source": [
    "## 2. 프롬프트 시작 부분에 지침(instructions)을 넣고 ### 또는 \"\"\"를 사용하여 지침(instruction)과 컨텍스트(context)를 구분합니다.\n",
    "\n",
    "### 덜 효과적인 방법 ❌:  \n",
    ">Summarize the text below as a bullet point list of the most important points.  \n",
    ">  \n",
    ">{text input here}\n",
    "----  \n",
    "### 더 효과적인 방법 ✅:  \n",
    ">Summarize the text below as a bullet point list of the most important points.  \n",
    ">  \n",
    ">Text: \"\"\"  \n",
    ">{text input here}.  \n",
    ">\"\"\""
   ]
  },
  {
   "cell_type": "code",
   "execution_count": null,
   "metadata": {},
   "outputs": [],
   "source": [
    "response = client.chat.completions.create(\n",
    "    model=deployment_name,\n",
    "    messages = [{\"role\":\"system\", \"content\":\"You are a helpful assistant. All answers are in korean. \"},\n",
    "                {\"role\":\"user\",\"content\": 'Summarize the text below as a bullet point list of the most important points. \\n\\n \\\n",
    "        ###\\n\\nWe’re happy to announce that OpenAI and Microsoft are extending our partnership.\\\n",
    "        This multi-year, multi-billion dollar investment from Microsoft follows their previous investments \\\n",
    "        in 2019 and 2021, and will allow us to continue our independent research and develop AI that is \\\n",
    "        increasingly safe, useful, and powerful. \\n\\n \\\n",
    "        In pursuit of our mission to ensure advanced AI benefits all of humanity, OpenAI remains a \\\n",
    "        capped-profit company and is governed by the OpenAI non-profit. This structure allows us to \\\n",
    "        raise the capital we need to fulfill our mission without sacrificing our core beliefs about \\\n",
    "        broadly sharing benefits and the need to prioritize safety. \\\n",
    "        Microsoft shares this vision and our values, and our partnership is instrumental to our progress. \\n###',}],\n",
    "        max_tokens=400,)\n",
    "\n",
    "# 다음 텍스트를 가장 중요한 포인트 목록으로 요약합니다.\n",
    "# 우리는 OpenAI와 마이크로소프트가 우리의 파트너십을 연장한다는 것을 발표하게 되어 기쁩니다. \n",
    "# 마이크로소프트의 이 다년간의 수십억 달러 투자는 2019년과 2021년의 이전 투자에 이어 우리가 독립적인 연구를 계속하고 점점 더 안전하고 유용하며 강력해지는 인공지능을 개발할 수 있도록 해줄 것입니다. \n",
    "# 고급 인공지능이 인류 모두에게 혜택을 줄 수 있도록 하는 우리의 사명을 추구하면서, OpenAI는 상한 이익을 가진 회사로 남아 있으며 OpenAI 비영리 단체에 의해 통제됩니다. \n",
    "# 이 구조는 우리가 혜택을 폭넓게 공유하고 안전을 우선시해야 할 필요성에 대한 핵심 신념을 희생하지 않고 임무를 수행하는 데 필요한 자본을 조달할 수 있도록 해줍니다. \n",
    "# 마이크로소프트는 이러한 비전과 가치를 공유하며, 우리의 파트너십은 우리의 발전에 중요합니다.\n",
    "\n",
    "print(response.choices[0].message.content)"
   ]
  },
  {
   "attachments": {},
   "cell_type": "markdown",
   "metadata": {},
   "source": [
    "## 3. 원하는 맥락, 결과, 길이, 형식, 스타일 등에 대해 구체적이고 설명적이며 최대한 상세하게 작성하십시오.\n",
    "### 덜 효과적인 방법 ❌:  \n",
    ">Write a poem about OpenAI. \n",
    "----\n",
    "### 더 효과적인 방법 ✅:  \n",
    ">Write a short inspiring poem about OpenAI, focusing on the recent DALL-E product launch (DALL-E is a text to image ML model) in the style of a {famous poet}"
   ]
  },
  {
   "cell_type": "code",
   "execution_count": null,
   "metadata": {},
   "outputs": [],
   "source": [
    "response = client.chat.completions.create(\n",
    "    model=deployment_name,\n",
    "    messages = [{\"role\":\"system\", \"content\":\"You are a helpful assistant. All answers are in korean.\"},\n",
    "                {\"role\":\"user\",\"content\": 'Write a poem about OpenAI.',}], # OpenAI에 대한 시를 써줘\n",
    "        max_tokens=400,)\n",
    "\n",
    "print(response.choices[0].message.content)"
   ]
  },
  {
   "cell_type": "code",
   "execution_count": null,
   "metadata": {},
   "outputs": [],
   "source": [
    "response = client.chat.completions.create(\n",
    "    model=deployment_name,\n",
    "    messages = [{\"role\":\"system\", \"content\":\"You are a helpful assistant. All answers are in korean.\"},\n",
    "                {\"role\":\"user\",\"content\": 'Write a short inspiring poem about OpenAI, \\\n",
    "                focusing on the recent DALL-E product launch in the style of Ernest Hemingway',}], # 어니스트 헤밍웨이 스타일의 최근 DALL-E 제품 출시를 중심으로 OpenAI에 대한 짧은 영감을 주는 시를 써줘\n",
    "        max_tokens=400,)\n",
    "\n",
    "print(response.choices[0].message.content)"
   ]
  },
  {
   "attachments": {},
   "cell_type": "markdown",
   "metadata": {},
   "source": [
    "## 4. 예제를 통해 원하는 출력 형식을 명시합니다.\n",
    "### 덜 효과적인 방법 ❌:  \n",
    "> Extract the entities mentioned in the text below. Extract the following 4 entity types: company names, people names, specific topics and themes.  \n",
    ">  \n",
    "> Text: {text}  \n",
    "----  \n",
    "### 더 효과적인 방법 ✅:  "
   ]
  },
  {
   "cell_type": "code",
   "execution_count": null,
   "metadata": {},
   "outputs": [],
   "source": [
    "response = client.chat.completions.create(\n",
    "    model=deployment_name,\n",
    "    messages = [{\"role\":\"system\", \"content\":\"You are a helpful assistant.\"},\n",
    "                {\"role\":\"user\",\"content\": 'Extract the companyn names then years in the following text below and output start index and end index of each entity.\\\n",
    "                Generate output as {\"text\": \"OpenAI\", \"start\": 28, \"end\": 34} \\\n",
    "                ###\\\n",
    "                We’re happy to announce that OpenAI and Microsoft are extending our partnership.\\\n",
    "                This multi-year, multi-billion dollar investment from Microsoft follows their previous investments \\\n",
    "                in 2019 and 2021, and will allow us to continue our independent research and develop AI that is \\\n",
    "                increasingly safe, useful, and powerful. \\n\\n \\\n",
    "                ###\\\n",
    "                ',}],\n",
    "        max_tokens=400,)\n",
    "\n",
    "# 우리는 OpenAI와 마이크로소프트가 우리의 파트너십을 연장한다는 것을 발표하게 되어 기쁩니다. \n",
    "# 마이크로소프트의 이 다년간의 수십억 달러 투자는 2019년과 2021년의 이전 투자에 이어 우리가 독립적인 연구를 계속하고 점점 더 안전하고 유용하며 강력해지는 인공지능을 개발할 수 있도록 해줄 것입니다.\n",
    "\n",
    "print(response.choices[0].message.content)"
   ]
  },
  {
   "cell_type": "markdown",
   "metadata": {},
   "source": [
    "보여주고 말하세요 - 특정 형식 요구 사항이 표시되면 모델이 더 잘 반응합니다. 또한 이를 통해 프로그래밍 방식으로 여러 출력을 안정적으로 구문 분석하는 것이 더 쉬워졌습니다."
   ]
  },
  {
   "cell_type": "code",
   "execution_count": null,
   "metadata": {},
   "outputs": [],
   "source": [
    "response = client.chat.completions.create(\n",
    "    model=deployment_name,\n",
    "    messages = [{\"role\":\"system\", \"content\":\"You are a helpful assistant. All answers are in korean.\"},\n",
    "                {\"role\":\"user\",\"content\": 'Extract the entities mentioned in the text below. \\\n",
    "                Extract the important entities mentioned in the text below. \\\n",
    "                First extract all company names, then extract all years, \\\n",
    "                then extract specific topics which fit the content and finally extract general overarching themes\\n\\n \\\n",
    "                Desired format: \\\n",
    "                Company names: <comma_separated_list_of_company_names> \\\n",
    "                Years: -||- \\\n",
    "                Specific topics: -||- \\\n",
    "                General themes: -||- \\\n",
    "                \"\"\"\\\n",
    "                We’re happy to announce that OpenAI and Microsoft are extending our partnership.\\\n",
    "                This multi-year, multi-billion dollar investment from Microsoft follows their previous investments \\\n",
    "                in 2019 and 2021, and will allow us to continue our independent research and develop AI that is \\\n",
    "                increasingly safe, useful, and powerful. \\n\\n \\\n",
    "                \"\"\"\\\n",
    "                ',}],\n",
    "        max_tokens=400,)\n",
    "\n",
    "\n",
    "# 아래 텍스트에 언급된 중요한 개체를 추출합니다.\n",
    "# 먼저 모든 회사 이름을 추출한 다음 모든 연도를 추출한 다음 내용에 맞는 특정 주제를 추출하고 마지막으로 일반적인 전체 주제를 추출합니다\n",
    "# 원하는 형식:\n",
    "# 회사명 : <comma_separated_list_of_company_name>\n",
    "# 연도:\n",
    "# 특정 항목:\n",
    "# 일반 테마:\n",
    "\n",
    "# 우리는 OpenAI와 마이크로소프트가 우리의 파트너십을 연장한다는 것을 발표하게 되어 기쁩니다. \n",
    "# 마이크로소프트의 이 다년간의 수십억 달러 투자는 2019년과 2021년의 이전 투자에 이어 우리가 독립적인 연구를 계속하고 점점 더 안전하고 유용하며 강력해지는 인공지능을 개발할 수 있도록 해줄 것입니다.\n",
    "\n",
    "\n",
    "\n",
    "print(response.choices[0].message.content)"
   ]
  },
  {
   "attachments": {},
   "cell_type": "markdown",
   "metadata": {},
   "source": [
    "## 5. zero-shot과 few-shot"
   ]
  },
  {
   "cell_type": "code",
   "execution_count": null,
   "metadata": {},
   "outputs": [],
   "source": [
    "# zero-shot\n",
    "\n",
    "response = client.chat.completions.create(\n",
    "    model=deployment_name,\n",
    "    messages = [{\"role\":\"system\", \"content\":\"You are a helpful assistant. Extract keywords from the corresponding texts below. All answers are in korean.\"}, # 텍스트에서 키워드 추출\n",
    "                {\"role\":\"user\",\"content\": 'Text: \\n\\\n",
    "            We’re happy to announce that OpenAI and Microsoft are extending our partnership.\\\n",
    "            This multi-year, multi-billion dollar investment from Microsoft follows their previous investments \\\n",
    "            in 2019 and 2021, and will allow us to continue our independent research and develop AI that is \\\n",
    "            increasingly safe, useful, and powerful. \\n\\nKeywords:    ',}],\n",
    "        max_tokens=400,)\n",
    "\n",
    "# 우리는 OpenAI와 마이크로소프트가 우리의 파트너십을 연장한다는 것을 발표하게 되어 기쁩니다. \n",
    "# 마이크로소프트의 이 다년간의 수십억 달러 투자는 2019년과 2021년의 이전 투자에 이어 우리가 독립적인 연구를 계속하고 점점 더 안전하고 유용하며 강력해지는 인공지능을 개발할 수 있도록 해줄 것입니다.\n",
    "\n",
    "print(response.choices[0].message.content)"
   ]
  },
  {
   "cell_type": "code",
   "execution_count": null,
   "metadata": {},
   "outputs": [],
   "source": [
    "# few-shot\n",
    "\n",
    "response = client.chat.completions.create(\n",
    "    model=deployment_name,\n",
    "    messages = [{\"role\":\"system\", \"content\":\"You are a helpful assistant. Extract keywords from the corresponding texts below.\\n\\n\\\n",
    "                Text: Stripe provides APIs that web developers can use to integrate \\\n",
    "                payment processing into their websites and mobile applications. \\\n",
    "                Keywords: Stripe, payment processing, APIs, web developers, websites, mobile applications \\\n",
    "                ###\\n\\\n",
    "                Text: OpenAI has trained cutting-edge language models that are very good at understanding \\\n",
    "                and generating text. Our API provides access to these models and can be used to solve virtually \\\n",
    "                any task that involves processing language. \\n\\\n",
    "                Keywords: language models, text processing, API.\\n\\n\\\n",
    "                ##W\"},\n",
    "                {\"role\":\"user\",\"content\": '\\n\\\n",
    "                Text: We’re happy to announce that OpenAI and Microsoft are extending our partnership.\\\n",
    "                This multi-year, multi-billion dollar investment from Microsoft follows their previous investments \\\n",
    "                in 2019 and 2021, and will allow us to continue our independent research and develop AI that is \\\n",
    "                increasingly safe, useful, and powerful. \\n\\n\\\n",
    "                Keywords:',}],\n",
    "        max_tokens=400,)\n",
    "\n",
    "# 스트라이프는 웹 개발자들이 결제 처리를 웹사이트와 모바일 애플리케이션에 통합하는 데 사용할 수 있는 API를 제공합니다.\n",
    "# 키워드: 스트라이프, 결제처리, API, 웹 개발자, 웹사이트, 모바일 애플리케이션\n",
    "\n",
    "# OpenAI는 텍스트를 이해하고 생성하는 데 매우 능숙한 최첨단 언어 모델을 훈련시켰습니다. \n",
    "#우리의 API는 이러한 모델에 대한 액세스를 제공하며 언어를 처리하는 것과 관련된 사실상 모든 작업을 해결하는 데 사용할 수 있습니다.\n",
    "#키워드: 언어 모델, 텍스트 처리, API.\n",
    "\n",
    "# 우리는 OpenAI와 마이크로소프트가 우리의 파트너십을 연장한다는 것을 발표하게 되어 기쁩니다. \n",
    "# 마이크로소프트의 이 다년간의 수십억 달러 투자는 2019년과 2021년의 이전 투자에 이어 우리가 독립적인 연구를 계속하고 점점 더 안전하고 유용하며 강력해지는 인공지능을 개발할 수 있도록 해줄 것입니다.\n",
    "# 키워드: \n",
    "\n",
    "print(response.choices[0].message.content)"
   ]
  },
  {
   "attachments": {},
   "cell_type": "markdown",
   "metadata": {},
   "source": [
    "## 6. 애매한 표현과 부정확한 설명을 줄입니다"
   ]
  },
  {
   "cell_type": "code",
   "execution_count": null,
   "metadata": {},
   "outputs": [],
   "source": [
    "# 애매하고 부정확한 설명\n",
    "\n",
    "response = client.chat.completions.create(\n",
    "    model=deployment_name,\n",
    "    messages = [{\"role\":\"system\", \"content\":\"You are a helpful assistant. All answers are in korean.\"},\n",
    "                {\"role\":\"user\",\"content\": 'Write a description for a new product. This product is a new generation of car seat. \\\n",
    "                The description for this product should be fairly short, a few sentences only, and not too much more.',}],\n",
    "        max_tokens=400,)\n",
    "\n",
    "# 신제품에 대한 설명을 작성하세요. 이 제품은 새로운 세대의 카시트입니다. 이 제품에 대한 설명은 상당히 짧아야 하고, 문장 몇 개만 적어야 하며, 그 이상은 안 됩니다.\n",
    "\n",
    "print(response.choices[0].message.content)"
   ]
  },
  {
   "cell_type": "code",
   "execution_count": null,
   "metadata": {},
   "outputs": [],
   "source": [
    "# 명확한 설명\n",
    "\n",
    "response = client.chat.completions.create(\n",
    "    model=deployment_name,\n",
    "    messages = [{\"role\":\"system\", \"content\":\"You are a helpful assistant. All answers are in korean.\"},\n",
    "                {\"role\":\"user\",\"content\": 'Write a description for a new product. This product is a new generation of car seat. \\\n",
    "                Use a 3 to 5 sentence paragraph to describe this product.',}],\n",
    "        max_tokens=400,)\n",
    "\n",
    "# 신제품에 대한 설명을 작성하세요. 이 제품은 새로운 세대의 카시트입니다. 이 제품을 설명하려면 3~5문단을 사용하세요.\n",
    "\n",
    "print(response.choices[0].message.content)"
   ]
  },
  {
   "cell_type": "markdown",
   "metadata": {},
   "source": []
  },
  {
   "attachments": {},
   "cell_type": "markdown",
   "metadata": {},
   "source": [
    "## 7. 하지 말아야 할 것을 말하지 말고 대신 해야 할 것을 말하십시오."
   ]
  },
  {
   "cell_type": "code",
   "execution_count": null,
   "metadata": {},
   "outputs": [],
   "source": [
    "# 하지 말아야 할 것에 대한 정의 없을 경우 발생하는 사건\n",
    "\n",
    "response = client.chat.completions.create(\n",
    "    model=deployment_name,\n",
    "    messages = [{\"role\":\"system\", \"content\":\"You are a helpful assistant. All answers are in korean.\"},\n",
    "                {\"role\":\"user\",\"content\": 'The following is a conversation between an Agent and a Customer. DO NOT ASK USERNAME OR PASSWORD. DO NOT REPEAT. \\n\\n\\\n",
    "                Customer: I can’t log in to my account.\\n\\\n",
    "                Agent:',}],\n",
    "        max_tokens=400,)\n",
    "\n",
    "# 다음은 에이전트와 고객 간의 대화입니다. 사용자 이름이나 비밀번호를 묻지 마십시오. 반복하지 마십시오.\n",
    "# 고객 : 내 계정에 로그인을 할 수 없어\n",
    "# 에이전트 : \n",
    "\n",
    "print(response.choices[0].message.content)"
   ]
  },
  {
   "cell_type": "code",
   "execution_count": null,
   "metadata": {},
   "outputs": [],
   "source": [
    "# 해야 하는 것에 대한 정의를 하는 경우\n",
    "\n",
    "response = client.chat.completions.create(\n",
    "    model=deployment_name,\n",
    "    messages = [{\"role\":\"system\", \"content\":\"You are a helpful assistant. All answers are in korean.\"},\n",
    "                {\"role\":\"user\",\"content\":'The following is a conversation between an Agent and a Customer. The agent will attempt to diagnose the \\\n",
    "                problem and suggest a solution, whilst refraining from asking any questions related to PII. \\\n",
    "                Instead of asking for PII, such as username or password, refer the user to the help \\\n",
    "                article www.samplewebsite.com/help/faq \\n\\n\\\n",
    "                Customer: I can’t log in to my account. \\n\\\n",
    "                Agent:',}],\n",
    "        max_tokens=400,)\n",
    "\n",
    "# 다음은 에이전트와 고객 간의 대화입니다. 에이전트는 PII와 관련된 질문을 자제하면서 문제를 진단하고 해결책을 제안합니다. \n",
    "# 사용자 이름이나 암호와 같은 PII를 묻는 대신 도움말 항목 www.samplewebsite.com/help/faq 을 참조하십시오\n",
    "# 고객 : 내 계정에 로그인을 할 수 없어\n",
    "# 에이전트 : \n",
    "\n",
    "print(response.choices[0].message.content)"
   ]
  },
  {
   "cell_type": "code",
   "execution_count": null,
   "metadata": {},
   "outputs": [],
   "source": []
  }
 ],
 "metadata": {
  "kernelspec": {
   "display_name": "base",
   "language": "python",
   "name": "python3"
  },
  "language_info": {
   "codemirror_mode": {
    "name": "ipython",
    "version": 3
   },
   "file_extension": ".py",
   "mimetype": "text/x-python",
   "name": "python",
   "nbconvert_exporter": "python",
   "pygments_lexer": "ipython3",
   "version": "3.10.14"
  },
  "orig_nbformat": 4,
  "vscode": {
   "interpreter": {
    "hash": "0ac0e7d245f35f05656c1dae54880a0902b050693b3e66826fb0a7033a44f77d"
   }
  }
 },
 "nbformat": 4,
 "nbformat_minor": 2
}
