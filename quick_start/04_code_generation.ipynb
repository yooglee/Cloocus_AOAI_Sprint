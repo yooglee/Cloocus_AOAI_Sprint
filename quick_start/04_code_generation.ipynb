{
 "cells": [
  {
   "cell_type": "code",
   "execution_count": null,
   "metadata": {},
   "outputs": [],
   "source": [
    "import os\n",
    "from openai import AzureOpenAI\n",
    "from dotenv import load_dotenv\n",
    "load_dotenv(\"../credentials.env\")\n",
    "\n",
    "client = AzureOpenAI(\n",
    "    azure_endpoint = os.getenv(\"AZURE_OPENAI_ENDPOINT\",\"\"),\n",
    "    api_key        = os.getenv(\"AZURE_OPENAI_API_KEY\"),\n",
    "    api_version    = os.getenv(\"OPENAI_API_VERSION\")\n",
    ")\n",
    "\n",
    "deployment_name    = os.getenv('DEPLOYMENT_NAME')"
   ]
  },
  {
   "cell_type": "code",
   "execution_count": null,
   "metadata": {},
   "outputs": [],
   "source": [
    "user_msg = \"\"\"### Postgres SQL tables, with their properties:\n",
    "#\n",
    "# Employee(id, name, department_id)\n",
    "# Department(id, name, address)\n",
    "# Salary_Payments(id, employee_id, amount, date)\n",
    "#\n",
    "### Make a query to list the names of the departments which employed more than 10 employees in the last 3 months.\n",
    "query:\n",
    "\"\"\"\n",
    "\n",
    "# user_msg = \"\"\"### Postgres SQL tables, with their properties:\n",
    "# #\n",
    "# # Employee(id, name, department_id)\n",
    "# # Department(id, name, address)\n",
    "# # Salary_Payments(id, employee_id, amount, date)\n",
    "# #\n",
    "# ### 최근 3 개월간 직원을 10명 이상 뽑은 부서의 이름을 수집하는 쿼리를 만들어줘.\n",
    "# query: \n",
    "# \"\"\"\n",
    "\n",
    "response = client.chat.completions.create(\n",
    "    model=deployment_name,\n",
    "    messages=[\n",
    "        {\"role\": \"system\", \"content\": \"You are a helpful assistant.\"},\n",
    "        {\"role\": \"user\", \"content\": user_msg},\n",
    "    ],\n",
    "  temperature=0,\n",
    "  max_tokens=500\n",
    ")\n",
    "\n",
    "print(response.choices[0].message.content)"
   ]
  },
  {
   "cell_type": "code",
   "execution_count": null,
   "metadata": {},
   "outputs": [],
   "source": [
    "user_msg = \"\"\"###Can you explain what does this code do? \n",
    "# Code: \n",
    "SELECT d.name\n",
    "FROM Department d\n",
    "WHERE d.id IN (\n",
    "    SELECT e.department_id\n",
    "    FROM Employee e\n",
    "    WHERE e.id IN (\n",
    "        SELECT sp.employee_id\n",
    "        FROM Salary_Payments sp\n",
    "        WHERE sp.date >= current_date - interval '3 months'\n",
    "    )\n",
    "    GROUP BY e.department_id\n",
    "    HAVING COUNT(e.id) > 10\n",
    ")\n",
    "# Answer: \n",
    "\"\"\"\n",
    "\n",
    "# user_msg = \"\"\"###이 코드가 무엇을 수행하는지 설명해줘?\n",
    "# #Code:\n",
    "# SELECT d.name\n",
    "# FROM Department d\n",
    "# WHERE d.id IN (\n",
    "#     SELECT e.department_id\n",
    "#     FROM Employee e\n",
    "#     WHERE e.id IN (\n",
    "#         SELECT sp.employee_id\n",
    "#         FROM Salary_Payments sp\n",
    "#         WHERE sp.date >= current_date - interval '3 months'\n",
    "#     )\n",
    "#     GROUP BY e.department_id\n",
    "#     HAVING COUNT(e.id) > 10\n",
    "# )\n",
    "# Answer:\n",
    "# \"\"\"\n",
    "   \n",
    "response = client.chat.completions.create(\n",
    "    model=deployment_name,\n",
    "    messages=[\n",
    "        {\"role\": \"system\", \"content\": \"You are a helpful assistant. All answers are in korean.\"},\n",
    "        {\"role\": \"user\", \"content\": user_msg},\n",
    "    ],\n",
    "   max_tokens=250)\n",
    "\n",
    "print(response.choices[0].message.content)"
   ]
  },
  {
   "cell_type": "code",
   "execution_count": null,
   "metadata": {},
   "outputs": [],
   "source": []
  },
  {
   "cell_type": "code",
   "execution_count": null,
   "metadata": {},
   "outputs": [],
   "source": []
  }
 ],
 "metadata": {
  "kernelspec": {
   "display_name": "azureml_py310_sdkv2",
   "language": "python",
   "name": "python3"
  },
  "language_info": {
   "codemirror_mode": {
    "name": "ipython",
    "version": 3
   },
   "file_extension": ".py",
   "mimetype": "text/x-python",
   "name": "python",
   "nbconvert_exporter": "python",
   "pygments_lexer": "ipython3",
   "version": "3.10.14"
  },
  "orig_nbformat": 4,
  "vscode": {
   "interpreter": {
    "hash": "2139c70ac98f3202d028164a545621647e07f47fd6f5d8ac55cf952bf7c15ed1"
   }
  }
 },
 "nbformat": 4,
 "nbformat_minor": 2
}
