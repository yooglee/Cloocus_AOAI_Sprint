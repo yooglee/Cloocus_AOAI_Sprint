{
 "cells": [
  {
   "cell_type": "markdown",
   "metadata": {},
   "source": [
    "아래와 같은 CLI를 통해서 서비스를 생성할 수 있지만, 이번 실습은 [다음 문서](http://azure.studydev.site/openai/aoai_2023_pe_02.pdf)의 p.47~p.55 제공하는 스크린샷 이미지를 바탕으로 Azure Portal에서의 리소스 접근 및 GPT 모델을 생성하여 진행합니다. \n",
    "\n",
    "- 생성에 사용한 Azure OpenAI Endpoint URL, Azure OpenAI API Key, GPT 모델 배포 이름(deployment_id)을 .env 파일에 저장합니다.\n",
    "- .env 파일이 존재하지 않을 경우, .env.sample 파일을 복사하여 이름을 바꾸어 생성합니다.\n",
    "- 아래 명령은 CLI를 이용하여 진행하는 예시이며, 여기서는 [다음으로 넘어 갑시다.](./02_OpenAI_getting_started.ipynb)"
   ]
  },
  {
   "cell_type": "code",
   "execution_count": 1,
   "metadata": {},
   "outputs": [
    {
     "name": "stdout",
     "output_type": "stream",
     "text": []
    }
   ],
   "source": [
    "# Login to Azure\n",
    "!az login"
   ]
  },
  {
   "cell_type": "code",
   "execution_count": 2,
   "metadata": {},
   "outputs": [],
   "source": [
    "# Use Non-prod subscription\n",
    "!az account set --subscription AppSub"
   ]
  },
  {
   "cell_type": "code",
   "execution_count": 3,
   "metadata": {},
   "outputs": [],
   "source": [
    "openai_rg_name = 'OpenAI'\n",
    "openai_svc_name = 'hsopenai'\n",
    "# !az group create --name $openai_rg_name --location southcentralus"
   ]
  },
  {
   "attachments": {},
   "cell_type": "markdown",
   "metadata": {},
   "source": [
    "# Create OpenAI service\n",
    "Update -l parameter value for a new endpoint uri"
   ]
  },
  {
   "cell_type": "code",
   "execution_count": null,
   "metadata": {},
   "outputs": [],
   "source": [
    "# Wait until the resource group is created\n",
    "# Create OpenAI service\n",
    "!az cognitiveservices account create -n $openai_svc_name -g $openai_rg_name -l southcentralus --kind OpenAI --sku s0 --subscription xxxxxxxx-xxxx-xxxx-xxxx-xxxxxxxxxxxx"
   ]
  },
  {
   "cell_type": "code",
   "execution_count": 5,
   "metadata": {},
   "outputs": [
    {
     "name": "stdout",
     "output_type": "stream",
     "text": []
    }
   ],
   "source": [
    "!az cognitiveservices account show -n $openai_svc_name -g $openai_rg_name "
   ]
  },
  {
   "cell_type": "code",
   "execution_count": 4,
   "metadata": {},
   "outputs": [
    {
     "name": "stdout",
     "output_type": "stream",
     "text": [
      "{\n",
      "  \"key1\": \"xxxxxxxxxxxxxxxxxxxxxxxxxxxxxxxx\",\n",
      "  \"key2\": \"yyyyyyyyyyyyyyyyyyyyyyyyyyyyyyyy\"\n",
      "}\n"
     ]
    }
   ],
   "source": [
    "!az cognitiveservices account keys list -n $openai_svc_name -g $openai_rg_name "
   ]
  },
  {
   "cell_type": "code",
   "execution_count": null,
   "metadata": {},
   "outputs": [],
   "source": [
    "# Deploy a model\n",
    "search_doc_deployment_name = 'curie-search-doc'\n",
    "search_doc_model = 'text-search-curie-doc-001'\n",
    "search_query_deployment_name = 'curie-search-query'\n",
    "search_query_model = 'text-search-curie-query-001'\n",
    "text_deployment_name = 'text-davinci-003'\n",
    "text_model = 'text-davinci-003'\n",
    "text_similarity_deployment_name = 'text-similarity-davinci-001'\n",
    "text_similarity_model = 'text-similarity-davinci-001'\n",
    "\n",
    "!az cognitiveservices account deployment create -g $openai_rg_name -n $openai_svc_name --deployment-name $text_similarity_deployment_name --model-name $text_similarity_model --model-version \"1\"  --model-format OpenAI --scale-settings-scale-type \"Standard\"\n",
    "!az cognitiveservices account deployment create -g $openai_rg_name -n $openai_svc_name --deployment-name $search_doc_deployment_name --model-name $search_doc_model --model-version \"1\"  --model-format OpenAI --scale-settings-scale-type \"Standard\""
   ]
  },
  {
   "cell_type": "code",
   "execution_count": null,
   "metadata": {},
   "outputs": [],
   "source": [
    "!az cognitiveservices account deployment create -g $openai_rg_name -n $openai_svc_name --deployment-name $search_query_deployment_name --model-name $search_query_model --model-version \"1\"  --model-format OpenAI --scale-settings-scale-type \"Standard\"\n",
    "!az cognitiveservices account deployment create -g $openai_rg_name -n $openai_svc_name --deployment-name $text_deployment_name --model-name $text_model --model-version \"1\"  --model-format OpenAI --scale-settings-scale-type \"Standard\""
   ]
  },
  {
   "cell_type": "code",
   "execution_count": null,
   "metadata": {},
   "outputs": [],
   "source": []
  }
 ],
 "metadata": {
  "kernelspec": {
   "display_name": "azureml_py310_sdkv2",
   "language": "python",
   "name": "python3"
  },
  "language_info": {
   "codemirror_mode": {
    "name": "ipython",
    "version": 3
   },
   "file_extension": ".py",
   "mimetype": "text/x-python",
   "name": "python",
   "nbconvert_exporter": "python",
   "pygments_lexer": "ipython3",
   "version": "3.11.4"
  },
  "orig_nbformat": 4,
  "vscode": {
   "interpreter": {
    "hash": "2139c70ac98f3202d028164a545621647e07f47fd6f5d8ac55cf952bf7c15ed1"
   }
  }
 },
 "nbformat": 4,
 "nbformat_minor": 2
}
