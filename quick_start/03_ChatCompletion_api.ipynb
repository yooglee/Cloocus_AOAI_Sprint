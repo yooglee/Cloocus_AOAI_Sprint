{
 "cells": [
  {
   "cell_type": "code",
   "execution_count": 1,
   "metadata": {},
   "outputs": [],
   "source": [
    "import os\n",
    "from openai import AzureOpenAI\n",
    "from dotenv import load_dotenv\n",
    "load_dotenv(\"../credentials.env\")\n",
    "\n",
    "client = AzureOpenAI(\n",
    "    azure_endpoint = os.getenv(\"AZURE_OPENAI_ENDPOINT\",\"\").strip(),\n",
    "    api_key        = os.getenv(\"AZURE_OPENAI_API_KEY\"),\n",
    "    api_version    = os.getenv(\"OPENAI_API_VERSION\")\n",
    ")\n",
    "\n",
    "deployment_name    = os.getenv('DEPLOYMENT_NAME')"
   ]
  },
  {
   "cell_type": "code",
   "execution_count": 2,
   "metadata": {},
   "outputs": [
    {
     "name": "stdout",
     "output_type": "stream",
     "text": [
      "Sorry, I don't know.\n"
     ]
    }
   ],
   "source": [
    "system_msg = \"\"\"Answer the question as truthfully as possible, and if you're unsure of the answer, say \"Sorry, I don't know\".\"\"\"\n",
    "user_msg = \"\"\"Q: who won men's high jump in the 2020 summer olympics? A:\"\"\"\n",
    "\n",
    "# system_msg = \"\"\"가능한 한 진실로 질문에 대답하십시오. 대답이 확실하지 않다면 \"미안, 모르겠어.\" \"\"\"\n",
    "# user_msq = \"\"\"Q: 2020 하계 올림픽 남자 높이 뛰기 에서 누가 우승 했습니까? A:\"\"\"\n",
    "\n",
    "response = client.chat.completions.create(\n",
    "    model=deployment_name,\n",
    "    messages=[\n",
    "        {\"role\": \"system\", \"content\": system_msg},\n",
    "        {\"role\": \"user\", \"content\": user_msg},\n",
    "    ],\n",
    "    temperature=0,\n",
    "    max_tokens=1000\n",
    ")\n",
    "\n",
    "print(response.choices[0].message.content)\n"
   ]
  },
  {
   "cell_type": "code",
   "execution_count": 3,
   "metadata": {},
   "outputs": [
    {
     "name": "stdout",
     "output_type": "stream",
     "text": [
      "Q1: Negative\n",
      "Q2: Positive\n"
     ]
    }
   ],
   "source": [
    "system_msg = \"\"\"Decide whether the following customer feedback is positive or negative. All answers are in korean. \"\"\"\n",
    "user_msg = \"\"\"Q1: I was disappointed with the quality of the product. It was very cheaply made and did not meet my expectations at all.\n",
    "Q2: I was happy with this product, it is well made and great quality for the price.\"\"\"\n",
    "\n",
    "# system_msg = \"\"\"다음 고객 피드백에 대해서 [긍정적, 부정적] 인지 결정하십시오.\"\"\"\n",
    "# user_msg = \"\"\"Q1 : 제품의 품질에 실망했습니다.그것은 매우 싸게 만들어졌고 내 기대를 전혀 충족시키지 못했습니다.\n",
    "# Q2 : 저는 이 제품에 만족했으며 가성비 좋게 잘 만들어졌있네요.\"\"\"\n",
    "\n",
    "# system_msg = \"\"\"다음 고객 피드백에 대해서 [긍정적, 부정적] 인지 결정하십시오.\"\"\"\n",
    "# user_msg = \"\"\"Q1 : 모니터가 매우 뜨겁습니다. Q2 : 모니터가 시장 반응이 매우 뜨겁습니다.\"\"\"\n",
    "\n",
    "response = client.chat.completions.create(\n",
    "    model=deployment_name,\n",
    "    messages=[\n",
    "        {\"role\": \"system\", \"content\": system_msg},\n",
    "        {\"role\": \"user\", \"content\": user_msg},\n",
    "    ],\n",
    "    temperature=0,\n",
    "    max_tokens=1000\n",
    ")\n",
    "\n",
    "print(response.choices[0].message.content)"
   ]
  },
  {
   "cell_type": "code",
   "execution_count": 4,
   "metadata": {},
   "outputs": [
    {
     "name": "stdout",
     "output_type": "stream",
     "text": [
      "주민등록번호, 신용카드 번호, 은행 계좌번호, 전화번호, 이메일 주소 등의 개인 식별 정보는 제공되지 않았습니다. 따라서 주어진 문장에서는 PII 데이터가 없습니다.\n"
     ]
    }
   ],
   "source": [
    "system_msg = \"\"\"All answers are in korean. List all PII data from following statement:\"\"\"\n",
    "user_msg = \"\"\"John Doe is a 35-year old man and he lives at 21 Main Street, New York, NY. He is a software engineer and he works at Microsoft. He has a wife named Jane Doe and they have two children\"\"\"\n",
    "\n",
    "# system_msg = \"\"\"다음의 문장에서 모든 pii 데이터를 나열하십시오.\"\"\"\n",
    "# user_msg = \"\"\"John Doe는 35 세의 나이이며 뉴욕 주 뉴욕 21 Main Street에 살고 있습니다. 그는 소프트웨어 엔지니어이며 Microsoft에서 일합니다. 그의 연락처는 010-1234-1234 입니다. 주로 파주에 거주합니다. 881123-1122334. 그는 Jane Doe라는 아내가 있고 두 자녀가 있습니다.\"\"\"\n",
    "\n",
    "response = client.chat.completions.create(\n",
    "    model=deployment_name,\n",
    "    messages=[\n",
    "        {\"role\": \"system\", \"content\": system_msg},\n",
    "        {\"role\": \"user\", \"content\": user_msg},\n",
    "    ],\n",
    "    temperature=0,\n",
    "    max_tokens=1000\n",
    ")\n",
    "\n",
    "print(response.choices[0].message.content)"
   ]
  },
  {
   "cell_type": "code",
   "execution_count": null,
   "metadata": {},
   "outputs": [],
   "source": []
  }
 ],
 "metadata": {
  "kernelspec": {
   "display_name": "Python 3",
   "language": "python",
   "name": "python3"
  },
  "language_info": {
   "codemirror_mode": {
    "name": "ipython",
    "version": 3
   },
   "file_extension": ".py",
   "mimetype": "text/x-python",
   "name": "python",
   "nbconvert_exporter": "python",
   "pygments_lexer": "ipython3",
   "version": "3.10.14"
  },
  "orig_nbformat": 4
 },
 "nbformat": 4,
 "nbformat_minor": 2
}
