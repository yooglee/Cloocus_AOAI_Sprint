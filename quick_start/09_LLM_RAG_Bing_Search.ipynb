{
 "cells": [
  {
   "attachments": {},
   "cell_type": "markdown",
   "metadata": {},
   "source": [
    "# Bing Search 기반의 RAG를 활용한 데모\n",
    "\n",
    "이 데모에서는 GPT3 모델을 사용하여 자연 쿼리를 분석하고 지식 기반을 사용하여 더 많은 정보를 검색하고 질문에 답변하는 방법을 보여줍니다.  \n",
    "1. Bing Search API 활용: 검색한 결과를 참고하는 방법을 소개합니다. 여기서는 Bing Search API를 활용합니다."
   ]
  },
  {
   "cell_type": "code",
   "execution_count": null,
   "metadata": {},
   "outputs": [],
   "source": [
    "import os\n",
    "import json\n",
    "import requests\n",
    "from openai import AzureOpenAI\n",
    "from dotenv import load_dotenv\n",
    "load_dotenv(\"../credentials.env\")\n",
    "\n",
    "client = AzureOpenAI(\n",
    "    azure_endpoint = os.getenv(\"AZURE_OPENAI_ENDPOINT\",\"\").strip(),\n",
    "    api_key        = os.getenv(\"AZURE_OPENAI_API_KEY\"),\n",
    "    api_version    = os.getenv(\"OPENAI_API_VERSION\")\n",
    ")\n",
    "\n",
    "deployment_name = os.getenv('DEPLOYMENT_NAME')"
   ]
  },
  {
   "cell_type": "code",
   "execution_count": null,
   "metadata": {},
   "outputs": [],
   "source": [
    "deployment_name\n"
   ]
  },
  {
   "cell_type": "markdown",
   "metadata": {},
   "source": [
    "## 1. Bing Search API를 활용하는 방법"
   ]
  },
  {
   "attachments": {},
   "cell_type": "markdown",
   "metadata": {},
   "source": [
    "### Start with a natural question  \n",
    "다음과 같이 LLM이 가지고 있지 않을 수 있는 데이터에 대한 접근이 필요할 때, 검색엔진을 활용할 수 있습니다."
   ]
  },
  {
   "attachments": {},
   "cell_type": "markdown",
   "metadata": {},
   "source": [
    "### Step 1: GPT3: What do I need to to answer this question?"
   ]
  },
  {
   "cell_type": "code",
   "execution_count": null,
   "metadata": {},
   "outputs": [],
   "source": [
    "# 검색을 위해 필요한 정보를 추출하는 함수 정의\n",
    "def get_search_info(input_query):\n",
    "    system_prompt='''\n",
    "    Answer the following questions as best you can. You have access to the following tools: You can only Korean language.\n",
    "    Web Search: Use the web to find information\n",
    "    Question: Natural language-based questions that users want to ask through web searches\n",
    "    Answer: Describes how to effectively answer people's natural language-based questions and creates optimized search keywords needed for use in the Bing Search API. And create optimized search keywords needed for use in the Bing Search API. The answer format must strictly follow the JSON format below.\n",
    "    {\"Keywords\": \"Specify three sets of keywords information to search for key data that matches the user's question intent.\"}\n",
    "    '''\n",
    "    user_prompt = f'''\n",
    "    Question: {input_query}\n",
    "    '''\n",
    "\n",
    "    # Azure OpenAI GPT를 프롬프트 엔지니어링의 Few-shot 예시\n",
    "    prompt = [{\"role\":\"system\", \"content\":system_prompt},\n",
    "                {\"role\":\"user\", \"content\":\"Question: 2024년 한국 총선 날짜가 언제인지 회사를 안 가도 되는지 알려줘.\"},\n",
    "                {\"role\":\"assistant\", \"content\":\"\"\"{\"Keywords\": \"2024년 한국 총선 날짜 + 2024년 총선 공휴일 여부 + 총선 투표일 휴무 정책\"}\"\"\"},\n",
    "                {\"role\":\"user\",\"content\": user_prompt}\n",
    "            ]\n",
    "        \n",
    "    response = client.chat.completions.create(\n",
    "        model=deployment_name,\n",
    "        messages = prompt,\n",
    "        max_tokens=600,\n",
    "        # response_format={\"type\": \"json_object\"}\n",
    "    )\n",
    "\n",
    "    keywords = json.loads(response.choices[0].message.content)['Keywords']\n",
    "    \n",
    "    # 만약 keywords가 list 형태일 경우, '+' 문자로 join하여 반환\n",
    "    if type(keywords) == list:\n",
    "        keywords = ' + '.join(keywords)\n",
    "\n",
    "    return json.loads(response.choices[0].message.content)['Keywords']\n",
    "\n",
    "    # # 만약 keywords가 list 형태일 경우, '+' 문자로 join하여 반환\n",
    "    # if isinstance(keywords, list):\n",
    "    #     keywords = ' + '.join(keywords)\n",
    "\n",
    "    # return keywords"
   ]
  },
  {
   "attachments": {},
   "cell_type": "markdown",
   "metadata": {},
   "source": [
    "### Step 2: Search web for more details  \n",
    "\n",
    "Bing Search API와 관련된 정보는 다음 Page에서 확인할 수 있습니다.  \n",
    "https://www.microsoft.com/en-us/bing/apis/bing-web-search-api"
   ]
  },
  {
   "cell_type": "code",
   "execution_count": null,
   "metadata": {},
   "outputs": [],
   "source": [
    "# Bing search API를 이용하여 검색 결과를 가져오는 함수 정의\n",
    "def get_search_result(keywords):\n",
    "    subscription_key = os.getenv(\"BING_SEARCH_KEY\")\n",
    "    endpoint = os.getenv(\"BING_SEARCH_ENDPOINT\") + \"/v7.0/search\"\n",
    "\n",
    "    query = keywords\n",
    "\n",
    "    # Construct a request\n",
    "    mkt = 'ko_KR'\n",
    "    params = { 'q': query, 'mkt': mkt }\n",
    "    headers = { 'Ocp-Apim-Subscription-Key': subscription_key }\n",
    "\n",
    "    # Call the API\n",
    "    response = requests.get(endpoint, headers=headers, params=params)\n",
    "\n",
    "    context = ''\n",
    "    # for result in response.json()['webPages']['value']:\n",
    "    #     context += result['snippet'] + '\\n'\n",
    "\n",
    "    # return context\n",
    "    response_json = response.json()\n",
    "    \n",
    "    if 'webPages' in response_json and 'value' in response_json['webPages']:\n",
    "        for result in response_json['webPages']['value']:\n",
    "            context += result['snippet'] + '\\n'\n",
    "\n",
    "    return context"
   ]
  },
  {
   "cell_type": "code",
   "execution_count": null,
   "metadata": {},
   "outputs": [],
   "source": [
    "# 검색 결과를 기반으로 사용자의 질문에 대한 답을 생성하는 함수 정의\n",
    "def generate_answer(input_query, context):\n",
    "    system_prompt = \"\"\"You are an agent who answers the user's questions based on the data provided. You can only Korean language.\"\"\"\n",
    "    user_prompt = f\"\"\"Question: {input_query}\n",
    "    Web Search Results: {context}\n",
    "    Answer: \n",
    "    \"\"\"\n",
    "\n",
    "    response = client.chat.completions.create(\n",
    "        model=deployment_name,\n",
    "        messages = [\n",
    "            {\"role\":\"system\", \"content\":system_prompt},\n",
    "            {\"role\":\"user\",\"content\": user_prompt}\n",
    "        ],\n",
    "        max_tokens=600\n",
    "    )\n",
    "\n",
    "    return response.choices[0].message.content"
   ]
  },
  {
   "cell_type": "code",
   "execution_count": null,
   "metadata": {},
   "outputs": [],
   "source": [
    "# 사용자로부터 검색 질의어를 입력받아서 결과를 출력하는 함수 정의\n",
    "def get_input_query(input_query):\n",
    "    # 검색 질의어 출력\n",
    "    print(\"-\"*80)\n",
    "    print(\"검색질의어: \" + input_query)\n",
    "    print(\"-\"*80)\n",
    "\n",
    "    # 검색 키워드를 추출하는 함수 호출\n",
    "    keywords = get_search_info(input_query)\n",
    "    print(\"검색키워드: \" + keywords)\n",
    "    print(\"-\"*80)\n",
    "\n",
    "    # 검색 결과를 가져오는 함수 호출\n",
    "    context = get_search_result(keywords)\n",
    "    print(\"검색결과: \" + context)\n",
    "    print(\"-\"*80)\n",
    "\n",
    "    # 사용자에게 제공할 답변을 생성하는 함수 호출\n",
    "    answer = generate_answer(input_query, context)\n",
    "    print(\"최종답변: \" + answer)\n",
    "    print(\"-\"*80)"
   ]
  },
  {
   "cell_type": "code",
   "execution_count": null,
   "metadata": {},
   "outputs": [],
   "source": [
    "input_query = \"2024년 '부처님 오신 날'이 언제야? 쉬는 날 맞아? 공휴일이면 대체 휴무는 언제야?\"\n",
    "get_input_query(input_query)"
   ]
  },
  {
   "cell_type": "code",
   "execution_count": null,
   "metadata": {},
   "outputs": [],
   "source": [
    "input_query = \"2024년 추석 연휴는 언제야? 연휴 기간은으로 얼만큼 쉴 수 있을지 알려줘.\"\n",
    "get_input_query(input_query)"
   ]
  },
  {
   "cell_type": "code",
   "execution_count": null,
   "metadata": {},
   "outputs": [],
   "source": []
  }
 ],
 "metadata": {
  "kernelspec": {
   "display_name": "azureml_py310_sdkv2",
   "language": "python",
   "name": "python3"
  },
  "language_info": {
   "codemirror_mode": {
    "name": "ipython",
    "version": 3
   },
   "file_extension": ".py",
   "mimetype": "text/x-python",
   "name": "python",
   "nbconvert_exporter": "python",
   "pygments_lexer": "ipython3",
   "version": "3.10.14"
  },
  "orig_nbformat": 4
 },
 "nbformat": 4,
 "nbformat_minor": 2
}
